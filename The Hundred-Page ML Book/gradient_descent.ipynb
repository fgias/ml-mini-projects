{
 "cells": [
  {
   "cell_type": "markdown",
   "metadata": {},
   "source": [
    "# The Hunder-Page Machine Learning Book\n",
    "\n",
    "## Chapter 4: Anatomy of a Learning Algorithm\n",
    "\n",
    "### 4.2 Gradient Descent"
   ]
  },
  {
   "cell_type": "code",
   "execution_count": 135,
   "metadata": {},
   "outputs": [],
   "source": [
    "import pandas as pd\n",
    "from tqdm.auto import tqdm"
   ]
  },
  {
   "cell_type": "code",
   "execution_count": 136,
   "metadata": {},
   "outputs": [
    {
     "data": {
      "text/html": [
       "<div>\n",
       "<style scoped>\n",
       "    .dataframe tbody tr th:only-of-type {\n",
       "        vertical-align: middle;\n",
       "    }\n",
       "\n",
       "    .dataframe tbody tr th {\n",
       "        vertical-align: top;\n",
       "    }\n",
       "\n",
       "    .dataframe thead th {\n",
       "        text-align: right;\n",
       "    }\n",
       "</style>\n",
       "<table border=\"1\" class=\"dataframe\">\n",
       "  <thead>\n",
       "    <tr style=\"text-align: right;\">\n",
       "      <th></th>\n",
       "      <th>radio</th>\n",
       "      <th>sales</th>\n",
       "    </tr>\n",
       "  </thead>\n",
       "  <tbody>\n",
       "    <tr>\n",
       "      <th>0</th>\n",
       "      <td>37.8</td>\n",
       "      <td>22.1</td>\n",
       "    </tr>\n",
       "    <tr>\n",
       "      <th>1</th>\n",
       "      <td>39.3</td>\n",
       "      <td>10.4</td>\n",
       "    </tr>\n",
       "    <tr>\n",
       "      <th>2</th>\n",
       "      <td>45.9</td>\n",
       "      <td>9.3</td>\n",
       "    </tr>\n",
       "    <tr>\n",
       "      <th>3</th>\n",
       "      <td>41.3</td>\n",
       "      <td>18.5</td>\n",
       "    </tr>\n",
       "    <tr>\n",
       "      <th>4</th>\n",
       "      <td>10.8</td>\n",
       "      <td>12.9</td>\n",
       "    </tr>\n",
       "  </tbody>\n",
       "</table>\n",
       "</div>"
      ],
      "text/plain": [
       "   radio  sales\n",
       "0   37.8   22.1\n",
       "1   39.3   10.4\n",
       "2   45.9    9.3\n",
       "3   41.3   18.5\n",
       "4   10.8   12.9"
      ]
     },
     "execution_count": 136,
     "metadata": {},
     "output_type": "execute_result"
    }
   ],
   "source": [
    "ads = pd.read_csv('Advertising.csv',usecols=['radio', 'sales'])\n",
    "ads.head()"
   ]
  },
  {
   "cell_type": "code",
   "execution_count": 137,
   "metadata": {},
   "outputs": [],
   "source": [
    "spendings = list(ads['radio'])\n",
    "sales = list(ads['sales'])"
   ]
  },
  {
   "cell_type": "code",
   "execution_count": 138,
   "metadata": {},
   "outputs": [],
   "source": [
    "def update_w_and_b(spendings, sales, w, b, alpha):\n",
    "    dl_dw = 0\n",
    "    dl_db = 0\n",
    "    N = len(spendings)\n",
    "\n",
    "    for i in range(N):\n",
    "        dl_dw += -2*spendings[i]*(sales[i] - (w*spendings[i] + b))\n",
    "        dl_db += -2*(sales[i] - (w*spendings[i] + b))\n",
    "\n",
    "    # update w and b\n",
    "    w = w - (1/float(N))*dl_dw*alpha\n",
    "    b = b - (1/float(N))*dl_db*alpha\n",
    "\n",
    "    return w, b"
   ]
  },
  {
   "cell_type": "code",
   "execution_count": 139,
   "metadata": {},
   "outputs": [],
   "source": [
    "def avg_loss(spendings, sales, w, b):\n",
    "    N = len(spendings)\n",
    "    total_error = 0.0\n",
    "    for i in range(N):\n",
    "        total_error += (sales[i] - (w*spendings[i] + b))**2\n",
    "    return total_error / float(N)"
   ]
  },
  {
   "cell_type": "code",
   "execution_count": 140,
   "metadata": {},
   "outputs": [],
   "source": [
    "def train(spendings, sales, w, b, alpha, epochs):\n",
    "    for e in tqdm(range(epochs)):\n",
    "        w, b = update_w_and_b(spendings, sales, w, b, alpha)\n",
    "    \n",
    "        # log the process\n",
    "        # if e % 400 == 0:\n",
    "        #     print(\"epoch: \", e, \"loss:\", avg_loss(spendings, sales, w, b), end='\\x1b[1K\\r')\n",
    "\n",
    "    return w, b"
   ]
  },
  {
   "cell_type": "code",
   "execution_count": 141,
   "metadata": {},
   "outputs": [
    {
     "name": "stderr",
     "output_type": "stream",
     "text": [
      "100%|██████████| 15000/15000 [00:04<00:00, 3723.65it/s]\n"
     ]
    },
    {
     "data": {
      "text/plain": [
       "(0.20254581129464883, 9.310003218435126)"
      ]
     },
     "execution_count": 141,
     "metadata": {},
     "output_type": "execute_result"
    }
   ],
   "source": [
    "train(spendings, sales, 0, 0, 0.001, 15_000)"
   ]
  },
  {
   "cell_type": "code",
   "execution_count": 142,
   "metadata": {},
   "outputs": [],
   "source": [
    "def train(spendings, sales, w, b, alpha, epochs):\n",
    "    for e in range(epochs):\n",
    "        w, b = update_w_and_b(spendings, sales, w, b, alpha)\n",
    "    \n",
    "        # log the process\n",
    "        if e % 3000 == 0:\n",
    "            print(\"epoch:\", e, \" loss:\", avg_loss(spendings, sales, w, b))\n",
    "\n",
    "    return w, b"
   ]
  },
  {
   "cell_type": "code",
   "execution_count": 143,
   "metadata": {},
   "outputs": [
    {
     "name": "stdout",
     "output_type": "stream",
     "text": [
      "epoch: 0  loss: 92.32078294903626\n",
      "epoch: 3000  loss: 18.876170218021276\n",
      "epoch: 6000  loss: 18.117072440822145\n",
      "epoch: 9000  loss: 18.0931745529731\n",
      "epoch: 12000  loss: 18.092422200561078\n"
     ]
    },
    {
     "data": {
      "text/plain": [
       "(0.20254581129464883, 9.310003218435126)"
      ]
     },
     "execution_count": 143,
     "metadata": {},
     "output_type": "execute_result"
    }
   ],
   "source": [
    "train(spendings, sales, 0, 0, 0.001, 15_000)"
   ]
  },
  {
   "cell_type": "code",
   "execution_count": 144,
   "metadata": {},
   "outputs": [],
   "source": [
    "def predict(x, w, b):\n",
    "    return w*x + b"
   ]
  },
  {
   "cell_type": "code",
   "execution_count": 145,
   "metadata": {},
   "outputs": [
    {
     "name": "stdout",
     "output_type": "stream",
     "text": [
      "epoch: 0  loss: 92.32078294903626\n",
      "epoch: 3000  loss: 18.876170218021276\n",
      "epoch: 6000  loss: 18.117072440822145\n",
      "epoch: 9000  loss: 18.0931745529731\n",
      "epoch: 12000  loss: 18.092422200561078\n",
      "y predicted = 13.97\n"
     ]
    }
   ],
   "source": [
    "w, b = train(spendings, sales, 0, 0, 0.001, 15_000)\n",
    "x_new = 23.0\n",
    "y_new = predict(x_new, w, b)\n",
    "print(('y predicted = {0:.2f}').format(y_new))"
   ]
  },
  {
   "cell_type": "markdown",
   "metadata": {},
   "source": [
    "### 4.3 How Machine Learning Engineers Work"
   ]
  },
  {
   "cell_type": "code",
   "execution_count": 146,
   "metadata": {},
   "outputs": [],
   "source": [
    "import numpy as np\n",
    "spendings = np.array(spendings).reshape(len(spendings),1)"
   ]
  },
  {
   "cell_type": "code",
   "execution_count": 147,
   "metadata": {},
   "outputs": [],
   "source": [
    "def train_sklearn(X, y):\n",
    "    from sklearn.linear_model import LinearRegression\n",
    "    \n",
    "    model = LinearRegression().fit(X,y)\n",
    "    return model"
   ]
  },
  {
   "cell_type": "code",
   "execution_count": 148,
   "metadata": {},
   "outputs": [],
   "source": [
    "model = train_sklearn(spendings, sales)"
   ]
  },
  {
   "cell_type": "code",
   "execution_count": 149,
   "metadata": {},
   "outputs": [
    {
     "name": "stdout",
     "output_type": "stream",
     "text": [
      "[13.96904111]\n"
     ]
    }
   ],
   "source": [
    "x_new = [[23.0]]\n",
    "y_new = model.predict(x_new)\n",
    "print(y_new)"
   ]
  }
 ],
 "metadata": {
  "interpreter": {
   "hash": "9688926e0120c82bc45141654f06390cf5b07a9996c109707e80805420de038d"
  },
  "kernelspec": {
   "display_name": "Python 3.8.5 ('base')",
   "language": "python",
   "name": "python3"
  },
  "language_info": {
   "codemirror_mode": {
    "name": "ipython",
    "version": 3
   },
   "file_extension": ".py",
   "mimetype": "text/x-python",
   "name": "python",
   "nbconvert_exporter": "python",
   "pygments_lexer": "ipython3",
   "version": "3.8.5"
  },
  "orig_nbformat": 4
 },
 "nbformat": 4,
 "nbformat_minor": 2
}
